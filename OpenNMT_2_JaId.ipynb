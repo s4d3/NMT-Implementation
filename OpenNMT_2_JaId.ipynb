{
  "nbformat": 4,
  "nbformat_minor": 0,
  "metadata": {
    "colab": {
      "name": "OpenNMT-2-JaId",
      "provenance": [],
      "collapsed_sections": [],
      "toc_visible": true,
      "include_colab_link": true
    },
    "kernelspec": {
      "name": "python3",
      "display_name": "Python 3"
    },
    "accelerator": "GPU"
  },
  "cells": [
    {
      "cell_type": "markdown",
      "metadata": {
        "id": "view-in-github",
        "colab_type": "text"
      },
      "source": [
        "<a href=\"https://colab.research.google.com/github/s4d3/NMT-Implementation/blob/main/OpenNMT_2_JaId.ipynb\" target=\"_parent\"><img src=\"https://colab.research.google.com/assets/colab-badge.svg\" alt=\"Open In Colab\"/></a>"
      ]
    },
    {
      "cell_type": "code",
      "metadata": {
        "colab": {
          "base_uri": "https://localhost:8080/"
        },
        "id": "HbUfebdG-uUs",
        "outputId": "7170aad4-8aaf-4bb6-9bab-2945209080f5"
      },
      "source": [
        "from google.colab import drive\n",
        "drive.mount('/content/drive')"
      ],
      "execution_count": 1,
      "outputs": [
        {
          "output_type": "stream",
          "text": [
            "Mounted at /content/drive\n"
          ],
          "name": "stdout"
        }
      ]
    },
    {
      "cell_type": "markdown",
      "metadata": {
        "id": "-CafbBscqadh"
      },
      "source": [
        "# OpenNMT-py によるニューラル機械翻訳演習\n",
        "# Neural machine translation exercise with OpenNMT-py\n",
        "OpenNMT-py というツールを用いて英日機械翻訳の演習を行います。\n",
        "Google Colaboratory は GPU を用いた実験ができるので、GPU を用いてニューラル機械翻訳の実験をしましょう。（「編集」→「ノートブックの設定」から「ハードウェアアクセラレータ」を GPU にしておいてください。以下、Python 3 で説明します。）\n",
        "データは田中コーパスという自由に使える対訳コーパスを使用します。翻訳結果を実際に見て評価する、ということも演習の目的です。\n",
        "\n",
        "We will practice English-Japanese machine translation using a tool called OpenNMT-py.\n",
        "Google Colaboratory can experiment with GPU, so let's experiment with neural machine translation using GPU. (Please set \"Hardware Accelerator\" to GPU from \"Edit\"-> \"Notebook Settings\". It will be explained in Python 3 below.)\n",
        "The data uses a freely available bilingual corpus called Tanaka Corpus. The purpose of the exercise is to actually see and evaluate the translation results."
      ]
    },
    {
      "cell_type": "markdown",
      "metadata": {
        "id": "m20XGJaW8Oy-"
      },
      "source": [
        "# OpenNMT-py のインストール\n",
        "# Install OpenNMT-py"
      ]
    },
    {
      "cell_type": "markdown",
      "metadata": {
        "id": "kw7qiP6n9hkL"
      },
      "source": [
        "## pip によるインストール\n",
        "## Installation with pip\n",
        "OpenNMT-py を使って実験を行います。かなり開発が速く、数週間で内容が変わってしまうので、ここでは2020年8月にリリースされた v1.2.0 というバージョンを使います。pip というのは Python のソフトウェアをインストールするときに使うツールの名前で、依存関係も含めて自動でセットアップしてくれます。\n",
        "\n",
        "Experiment with OpenNMT-py. It's pretty fast to develop and changes in a few weeks, so I'm going to use the version v1.2.0 released in August 2020. pip is the name of the tool you use to install Python software, and it will set it up automatically, including its dependencies."
      ]
    },
    {
      "cell_type": "code",
      "metadata": {
        "id": "zQlMUnXujlFO"
      },
      "source": [
        "#!pip install OpenNMT-py==1.2.0\n",
        "!pip install --upgrade OpenNMT-py==2.0.0rc1"
      ],
      "execution_count": null,
      "outputs": []
    },
    {
      "cell_type": "markdown",
      "metadata": {
        "id": "c9Wq-qy581dJ"
      },
      "source": [
        "# 対訳データのインストールと前処理\n",
        "# Bilingual data installation and preprocessing"
      ]
    },
    {
      "cell_type": "markdown",
      "metadata": {
        "id": "HlAjlWX3PP39"
      },
      "source": [
        "## 田中コーパス\n",
        "## Tanaka Corpus\n",
        "\n",
        "田中コーパスというデータで翻訳実験を行います。日本の大学生が翻訳したデータです。そのうち適当な長さの5万文だけを抽出して実験しやすいようにしてくれたデータを用います。\n",
        "train.{ja,en}というのが学習データ、dev.{ja,en}というのが開発データ、test.{ja,en}というのがテストデータです。\n",
        "\n",
        "We will conduct a translation experiment using data called Tanaka Corpus. Data translated by Japanese university students. We will use the data that makes it easier to experiment by extracting only 50,000 sentences of appropriate length.\n",
        "train. {ja, en} is the training data, dev. {ja, en} is the development data, and test. {Ja, en} is the test data."
      ]
    },
    {
      "cell_type": "code",
      "metadata": {
        "id": "I1_IGw_8rO2A",
        "colab": {
          "base_uri": "https://localhost:8080/"
        },
        "outputId": "f0e8d937-b065-4b54-9796-bd55934fa297"
      },
      "source": [
        "#ls small_parallel_enja\n",
        "!ls /content/drive/MyDrive/OpenNMT/dataJaId06"
      ],
      "execution_count": 3,
      "outputs": [
        {
          "output_type": "stream",
          "text": [
            "dev.id\tdev.ja\tja-id.yaml  run  test.id  test.ja  train.id  train.ja\n"
          ],
          "name": "stdout"
        }
      ]
    },
    {
      "cell_type": "markdown",
      "metadata": {
        "id": "8MEyzwOsPj9h"
      },
      "source": [
        "## データの前処理\n",
        "## Data preprocessing\n",
        "\n",
        "onmt_preprocess というスクリプトでデータの前処理をします。語彙のサイズをコントロールしたり、単語分割をしたりします。\n",
        "\n",
        "Preprocess the data with a script called onmt_preprocess. Control the size of the vocabulary and split words."
      ]
    },
    {
      "cell_type": "code",
      "metadata": {
        "id": "y4q7Z8HOfmvu"
      },
      "source": [
        "!onmt_train -config /content/drive/MyDrive/OpenNMT/dataJaId06/ja-id.yaml"
      ],
      "execution_count": null,
      "outputs": []
    },
    {
      "cell_type": "code",
      "metadata": {
        "id": "PYqACuHAggF4"
      },
      "source": [
        "#onmt_translate -model toy-ende/run/model_step_1000.pt -src toy-ende/src-test.txt -output toy-ende/pred_1000.txt -gpu 0 -verbose\n",
        "!onmt_translate -model /content/drive/MyDrive/OpenNMT/dataJaId06/run/modelALT_step_20000.pt -src /content/drive/MyDrive/OpenNMT/dataJaId06/test.ja -output /content/drive/MyDrive/OpenNMT/dataJaId06/pred_1000.txt -gpu 0 -verbose"
      ],
      "execution_count": null,
      "outputs": []
    },
    {
      "cell_type": "markdown",
      "metadata": {
        "id": "CCMG8UBl9ROi"
      },
      "source": [
        "# NMTの訓練\n",
        "# NMT training"
      ]
    },
    {
      "cell_type": "markdown",
      "metadata": {
        "id": "HVEw0PdaOzHi"
      },
      "source": [
        "## 学習\n",
        "## Learning\n",
        "\n",
        "onmt_train というスクリプトで学習します。いくつかオプションがあるので、変えてみると挙動も変わります。\n",
        "--world_size で使う GPU の個数、--gpu_ranks で使う GPU を指定します（0スタートです）。指定しないと CPU になってしまいます。CPU は GPU の数十倍遅いです。\n",
        "--train_steps は学習するステップを指定します。40,000だとこのデータは20分弱で学習できます。\n",
        "\n",
        "You will learn with a script called onmt_train. There are several options, so if you change it, the behavior will change.\n",
        "Specify the number of GPUs to use with --world_size and the GPUs to use with --gpu_ranks (starting from 0). If not specified, it will be the CPU. The CPU is dozens of times slower than the GPU.\n",
        "--train_steps specifies the steps to learn. At 40,000, this data can be learned in less than 20 minutes."
      ]
    },
    {
      "cell_type": "markdown",
      "metadata": {
        "id": "GTkACX0sOlq9"
      },
      "source": [
        "## 翻訳モデル\n",
        "## Translation model\n",
        "\n",
        "学習されたモデルは _step_10000.pt のような名前で保存されています。\n",
        "The trained model is saved with a name like _step_10000.pt."
      ]
    },
    {
      "cell_type": "markdown",
      "metadata": {
        "id": "X8BuDeRq9X0B"
      },
      "source": [
        "# NMTによる翻訳\n",
        "Translated by NMT"
      ]
    },
    {
      "cell_type": "markdown",
      "metadata": {
        "id": "NamQ-KrxQPEr"
      },
      "source": [
        "## デコード\n",
        "## Decode\n",
        "\n",
        "onmt_translate というスクリプトでデコードします。一つ前に学習した翻訳モデルのうちの1つを指定します。\n",
        "--output pred.txt というので結果を保存するファイルを指定します。\n",
        "--replace_unk というのは未知語処理をするというオプションです。\n",
        "--verbose は結果を冗長に画面にも表示させるオプションです。\n",
        "\n",
        "Decode with a script called onmt_translate. Specify one of the previously learned translation models.\n",
        "Since it is --output pred.txt, specify the file to save the result.\n",
        "--replace_unk is an option to process unknown words.\n",
        "--verbose is an option to display the result redundantly on the screen."
      ]
    },
    {
      "cell_type": "code",
      "metadata": {
        "id": "sTLSdT6_4Ehw"
      },
      "source": [
        "!cat /content/drive/MyDrive/OpenNMT/dataJaId06/pred_1000.txt"
      ],
      "execution_count": null,
      "outputs": []
    },
    {
      "cell_type": "markdown",
      "metadata": {
        "id": "2JG4TreuOPb1"
      },
      "source": [
        "##BLEU による評価\n",
        "##Evaluation by BLEU\n",
        "\n",
        "正解（参照訳）のファイルを第一引数に、システムの出力をリダイレクト（<）で渡します。\n",
        "sacrebleu というツールで評価するので、pip でインストールします。\n",
        "\n",
        "Pass the system output by redirect (<) with the correct answer (reference translation) file as the first argument.\n",
        "Since it is evaluated by a tool called sacrebleu, install it with pip."
      ]
    },
    {
      "cell_type": "code",
      "metadata": {
        "id": "T4tOtIm8mmQf"
      },
      "source": [
        "!pip install sacrebleu"
      ],
      "execution_count": null,
      "outputs": []
    },
    {
      "cell_type": "code",
      "metadata": {
        "id": "DuHdKHDWRQR_"
      },
      "source": [
        "!chmod 755 -R /content/drive/MyDrive/Marian-NMT/marian/examples/tools/"
      ],
      "execution_count": 12,
      "outputs": []
    },
    {
      "cell_type": "code",
      "metadata": {
        "id": "jltvHi7yUbX5"
      },
      "source": [
        "!/content/drive/MyDrive/Marian-NMT/marian/examples/tools/moses-scripts/scripts/tokenizer/detokenizer.perl < /content/drive/MyDrive/OpenNMT/dataJaId06/pred_1000.txt > /content/drive/MyDrive/OpenNMT/dataJaId06/predTok_1000.txt\n",
        "!/content/drive/MyDrive/Marian-NMT/marian/examples/tools/moses-scripts/scripts/tokenizer/detokenizer.perl < /content/drive/MyDrive/OpenNMT/dataJaId06/test.id > /content/drive/MyDrive/OpenNMT/dataJaId06/testTok.id\n"
      ],
      "execution_count": null,
      "outputs": []
    },
    {
      "cell_type": "code",
      "metadata": {
        "id": "JWS3p1boqNAw",
        "colab": {
          "base_uri": "https://localhost:8080/"
        },
        "outputId": "ffd5d008-fd08-4351-f6d7-65c048993e16"
      },
      "source": [
        "!sacrebleu /content/drive/MyDrive/OpenNMT/dataJaId06/testTok.id < /content/drive/MyDrive/OpenNMT/dataJaId06/predTok_1000.txt\n"
      ],
      "execution_count": 15,
      "outputs": [
        {
          "output_type": "stream",
          "text": [
            "BLEU+case.mixed+numrefs.1+smooth.exp+tok.13a+version.1.4.14 = 4.0 33.8/7.7/2.2/0.7 (BP = 0.883 ratio = 0.889 hyp_len = 23138 ref_len = 26013)\n"
          ],
          "name": "stdout"
        }
      ]
    },
    {
      "cell_type": "markdown",
      "metadata": {
        "id": "ICBupFH6nRbz"
      },
      "source": [
        "## 結果の保存\n",
        "## Save results\n",
        "\n",
        "画面に表示して保存する場合は ``cat`` というコマンドを使って表示させます。複数の結果を表示させたい場合は ``paste`` というコマンドを使います。\n",
        "結果をファイルに保存する場合は ``files.download`` というメソッドを呼びます。\n",
        "出力されていない結果は24時間で消えるので、ご注意ください。\n",
        "\n",
        "To display it on the screen and save it, use the command `` cat`` to display it. If you want to display multiple results, use the command `` paste``.\n",
        "If you want to save the result to a file, call the method `` files.download``.\n",
        "Please note that unoutput results will disappear in 24 hours."
      ]
    }
  ]
}